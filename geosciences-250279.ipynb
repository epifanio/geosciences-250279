{
 "cells": [
  {
   "cell_type": "code",
   "execution_count": null,
   "metadata": {},
   "outputs": [],
   "source": [
    "import os\n",
    "import sys"
   ]
  },
  {
   "cell_type": "code",
   "execution_count": null,
   "metadata": {},
   "outputs": [],
   "source": [
    "!g.list rast"
   ]
  },
  {
   "cell_type": "code",
   "execution_count": null,
   "metadata": {},
   "outputs": [],
   "source": [
    "!g.gisenv set=GISDBASE={os.environ['GISDBASE']}\n",
    "!g.gisenv set=GUI={os.environ['GUI']}\n",
    "!g.gisenv set=GRASS_ADDON_BASE={os.environ['GRASS_ADDON_BASE']}"
   ]
  },
  {
   "cell_type": "code",
   "execution_count": null,
   "metadata": {},
   "outputs": [],
   "source": [
    "!g.proj -c epsg=32619 location=UTM19N"
   ]
  },
  {
   "cell_type": "code",
   "execution_count": null,
   "metadata": {},
   "outputs": [],
   "source": [
    "!g.gisenv set=LOCATION_NAME=UTM19N"
   ]
  },
  {
   "cell_type": "code",
   "execution_count": null,
   "metadata": {},
   "outputs": [],
   "source": [
    "!g.mapset mapset=PERMANENT location=UTM19N"
   ]
  },
  {
   "cell_type": "code",
   "execution_count": null,
   "metadata": {},
   "outputs": [],
   "source": [
    "os.environ[\"PATH\"] += os.pathsep + '/home/epinux/.grass7/addons/bin/'\n",
    "os.environ[\"PATH\"] += os.pathsep + '/home/epinux/.grass7/addons/scripts/'"
   ]
  },
  {
   "cell_type": "code",
   "execution_count": null,
   "metadata": {},
   "outputs": [],
   "source": [
    "!g.extension extension=r.geomorphon --q --qq &>/dev/null"
   ]
  },
  {
   "cell_type": "code",
   "execution_count": null,
   "metadata": {},
   "outputs": [],
   "source": [
    "!g.extension extension=r.area --q --qq &>/dev/null"
   ]
  },
  {
   "cell_type": "code",
   "execution_count": null,
   "metadata": {},
   "outputs": [],
   "source": [
    "!g.extension extension=v.transects --q --qq &>/dev/null"
   ]
  },
  {
   "cell_type": "code",
   "execution_count": null,
   "metadata": {},
   "outputs": [],
   "source": [
    "!g.gisenv"
   ]
  },
  {
   "cell_type": "code",
   "execution_count": null,
   "metadata": {},
   "outputs": [],
   "source": [
    "!wget -O bathy_2015.tif https://nextcloud.epinux.com/index.php/s/4bgMkM8pgtLLNxQ/download -q --show-progress"
   ]
  },
  {
   "cell_type": "code",
   "execution_count": null,
   "metadata": {},
   "outputs": [],
   "source": [
    "!r.in.gdal input=bathy_2015.tif -o -e output=bathy_2015 --o"
   ]
  },
  {
   "cell_type": "code",
   "execution_count": null,
   "metadata": {},
   "outputs": [],
   "source": [
    "!r.colors -e color=haxby map=bathy_2015"
   ]
  },
  {
   "cell_type": "code",
   "execution_count": null,
   "metadata": {},
   "outputs": [],
   "source": [
    "!g.region n=4546380 s=4546202 w=506185 e=506571 -ap"
   ]
  },
  {
   "cell_type": "code",
   "execution_count": null,
   "metadata": {},
   "outputs": [],
   "source": [
    "center_long=-68.92408520\n",
    "center_lat=41.06784209"
   ]
  },
  {
   "cell_type": "code",
   "execution_count": null,
   "metadata": {},
   "outputs": [],
   "source": [
    "cd /home/epinux/notebooks/Work/Experiment1"
   ]
  },
  {
   "cell_type": "code",
   "execution_count": null,
   "metadata": {},
   "outputs": [],
   "source": [
    "from g2l import Grass2img, Grass2vector, Grass2Leaflet "
   ]
  },
  {
   "cell_type": "code",
   "execution_count": null,
   "metadata": {},
   "outputs": [],
   "source": [
    "#thin crest detector\n",
    "!r.geomorphon --overwrite elevation=bathy_2015 forms=geomorphometry search=9 skip=3 flat=2.0 dist=0 step=0 start=0     \n",
    "!r.mapcalc expression=\"swc=if(geomorphometry==3 | geomorphometry==2,1, null())\" --o"
   ]
  },
  {
   "cell_type": "code",
   "execution_count": null,
   "metadata": {},
   "outputs": [],
   "source": [
    "F7 = Grass2img(['geomorphometry', 'swc']).makeimg()\n",
    "leaflet_widget = Grass2Leaflet(F7).render(draw_control=True)\n",
    "leaflet_widget['map'].center=(center_lat,center_long)\n",
    "leaflet_widget['map'].zoom = 18"
   ]
  },
  {
   "cell_type": "code",
   "execution_count": null,
   "metadata": {},
   "outputs": [],
   "source": [
    "!r.thin input=swc output=swc_thin iterations=400 --o"
   ]
  },
  {
   "cell_type": "code",
   "execution_count": null,
   "metadata": {},
   "outputs": [],
   "source": [
    "F8 = Grass2img(['swc','swc_thin']).makeimg()\n",
    "leaflet_widget = Grass2Leaflet(F8 ).render(draw_control=True)\n",
    "leaflet_widget['map'].center=(center_lat,center_long)\n",
    "leaflet_widget['map'].zoom = 18"
   ]
  },
  {
   "cell_type": "code",
   "execution_count": null,
   "metadata": {},
   "outputs": [],
   "source": [
    "!r.clump -d --overwrite input=swc_thin output=swc_thin_clump"
   ]
  },
  {
   "cell_type": "code",
   "execution_count": null,
   "metadata": {},
   "outputs": [],
   "source": [
    "F9 = Grass2img(['swc_thin','swc_thin_clump']).makeimg()\n",
    "leaflet_widget = Grass2Leaflet(F9).render(draw_control=True)\n",
    "leaflet_widget['map'].center=(center_lat,center_long)\n",
    "leaflet_widget['map'].zoom = 18"
   ]
  },
  {
   "cell_type": "code",
   "execution_count": null,
   "metadata": {},
   "outputs": [],
   "source": [
    "!r.area --overwrite input=swc_thin_clump output=swc_thin_long lesser=70"
   ]
  },
  {
   "cell_type": "code",
   "execution_count": null,
   "metadata": {},
   "outputs": [],
   "source": [
    "F10 = Grass2img(['swc_thin_clump','swc_thin_long']).makeimg()\n",
    "leaflet_widget = Grass2Leaflet(F10).render(draw_control=True)\n",
    "leaflet_widget['map'].center=(center_lat,center_long)\n",
    "leaflet_widget['map'].zoom = 18"
   ]
  },
  {
   "cell_type": "code",
   "execution_count": null,
   "metadata": {},
   "outputs": [],
   "source": [
    "!r.to.vect input=swc_thin_long output=swc_thin_long type=line --o"
   ]
  },
  {
   "cell_type": "code",
   "execution_count": null,
   "metadata": {},
   "outputs": [],
   "source": [
    "F11 = Grass2img(['swc_thin_long']).makeimg()\n",
    "leaflet_widget = Grass2Leaflet(F11).render(draw_control=True)\n",
    "swc_vector = Grass2vector(['swc_thin_long'], name=True).makejson()\n",
    "leaflet_widget['map'].add_layer(swc_vector['swc_thin_long']['vlayer'])\n",
    "leaflet_widget['map'].center=(center_lat,center_long)\n",
    "leaflet_widget['map'].zoom = 18"
   ]
  },
  {
   "cell_type": "code",
   "execution_count": null,
   "metadata": {},
   "outputs": [],
   "source": [
    "!v.generalize --overwrite input=swc_thin_long output=swc_thin_long_smooth method=douglas threshold=2"
   ]
  },
  {
   "cell_type": "code",
   "execution_count": null,
   "metadata": {},
   "outputs": [],
   "source": [
    "F12 = Grass2img(['swc_thin_long']).makeimg()\n",
    "leaflet_widget = Grass2Leaflet(F12).render(draw_control=True)\n",
    "swc_thin_long_smooth = Grass2vector(['swc_thin_long_smooth'], name=True).makejson()\n",
    "leaflet_widget['map'].add_layer(swc_thin_long_smooth['swc_thin_long_smooth']['vlayer'])\n",
    "leaflet_widget['map'].center=(center_lat,center_long)\n",
    "leaflet_widget['map'].zoom = 18"
   ]
  },
  {
   "cell_type": "code",
   "execution_count": null,
   "metadata": {},
   "outputs": [],
   "source": [
    "!v.clean input=swc_thin_long_smooth output=swc_thin_long_smooth_clean type=line tool=rmdangle,rmdangle,rmdangle,rmdangle threshold=5,10,20,30 --o"
   ]
  },
  {
   "cell_type": "code",
   "execution_count": null,
   "metadata": {
    "scrolled": false
   },
   "outputs": [],
   "source": [
    "F13 = Grass2img(['swc_thin_long']).makeimg()\n",
    "leaflet_widget = Grass2Leaflet(F13).render(draw_control=True)\n",
    "swc_thin_long_smooth_clean = Grass2vector(['swc_thin_long_smooth_clean'], name=True).makejson()\n",
    "leaflet_widget['map'].add_layer(swc_thin_long_smooth_clean['swc_thin_long_smooth_clean']['vlayer'])\n",
    "leaflet_widget['map'].center=(center_lat,center_long)\n",
    "leaflet_widget['map'].zoom = 18"
   ]
  },
  {
   "cell_type": "code",
   "execution_count": null,
   "metadata": {},
   "outputs": [],
   "source": [
    "!g.region n=4546380 s=4546202 w=506185 e=506571 -ap"
   ]
  },
  {
   "cell_type": "code",
   "execution_count": null,
   "metadata": {},
   "outputs": [],
   "source": [
    "# large scale features\n",
    "!r.geomorphon elevation=bathy_2015 forms=geomorphometry_sw search=30 skip=9 flat=3.7 dist=15 step=0 start=0 --o"
   ]
  },
  {
   "cell_type": "code",
   "execution_count": null,
   "metadata": {},
   "outputs": [],
   "source": [
    "!r.mapcalc expression=\"sw=if(geomorphometry_sw==3 | geomorphometry_sw==2 | geomorphometry_sw==6 | geomorphometry_sw==5 , 1, null())\" --o"
   ]
  },
  {
   "cell_type": "code",
   "execution_count": null,
   "metadata": {},
   "outputs": [],
   "source": [
    "F14 = Grass2img(['geomorphometry_sw','sw']).makeimg()\n",
    "leaflet_widget = Grass2Leaflet(F14).render(draw_control=True)\n",
    "leaflet_widget['map'].center=(center_lat,center_long)\n",
    "leaflet_widget['map'].zoom = 18"
   ]
  },
  {
   "cell_type": "code",
   "execution_count": null,
   "metadata": {},
   "outputs": [],
   "source": [
    "!r.clump -d --overwrite input=sw output=sw_clump"
   ]
  },
  {
   "cell_type": "code",
   "execution_count": null,
   "metadata": {},
   "outputs": [],
   "source": [
    "F15 = Grass2img(['sw','sw_clump']).makeimg()\n",
    "leaflet_widget = Grass2Leaflet(F15).render(draw_control=True)\n",
    "leaflet_widget['map'].center=(center_lat,center_long)\n",
    "leaflet_widget['map'].zoom = 18"
   ]
  },
  {
   "cell_type": "code",
   "execution_count": null,
   "metadata": {},
   "outputs": [],
   "source": [
    "!r.area input=sw_clump output=sw_clean lesser=1000 --o"
   ]
  },
  {
   "cell_type": "code",
   "execution_count": null,
   "metadata": {},
   "outputs": [],
   "source": [
    "F16 = Grass2img(['sw_clump','sw_clean']).makeimg()\n",
    "leaflet_widget = Grass2Leaflet(F16).render(draw_control=True)\n",
    "leaflet_widget['map'].center=(center_lat,center_long)\n",
    "leaflet_widget['map'].zoom = 18"
   ]
  },
  {
   "cell_type": "code",
   "execution_count": null,
   "metadata": {},
   "outputs": [],
   "source": [
    "!r.neighbors input=sw_clean output=sw_clean_fill3 method=maximum --o"
   ]
  },
  {
   "cell_type": "code",
   "execution_count": null,
   "metadata": {},
   "outputs": [],
   "source": [
    "F17 = Grass2img(['sw_clean','sw_clean_fill3']).makeimg()\n",
    "leaflet_widget = Grass2Leaflet(F17).render(draw_control=True)\n",
    "leaflet_widget['map'].center=(center_lat,center_long)\n",
    "leaflet_widget['map'].zoom = 18"
   ]
  },
  {
   "cell_type": "code",
   "execution_count": null,
   "metadata": {},
   "outputs": [],
   "source": [
    "!r.to.vect input=sw_clean_fill3 output=sw_clean_fill3 type=area --o"
   ]
  },
  {
   "cell_type": "code",
   "execution_count": null,
   "metadata": {},
   "outputs": [],
   "source": [
    "!g.region n=4546380 s=4546202 w=506185 e=506571 -ap"
   ]
  },
  {
   "cell_type": "code",
   "execution_count": null,
   "metadata": {},
   "outputs": [],
   "source": [
    "F18 = Grass2img(['sw_clean_fill3']).makeimg()\n",
    "leaflet_widget = Grass2Leaflet(F18).render(draw_control=True)\n",
    "sw_clean_fill3 = Grass2vector(['sw_clean_fill3'], name=True).makejson()\n",
    "leaflet_widget['map'].add_layer(sw_clean_fill3['sw_clean_fill3']['vlayer'])\n",
    "leaflet_widget['map'].center=(center_lat,center_long)\n",
    "leaflet_widget['map'].zoom = 18"
   ]
  },
  {
   "cell_type": "code",
   "execution_count": null,
   "metadata": {},
   "outputs": [],
   "source": [
    "F19 = Grass2img(['sw_clean_fill3']).makeimg()\n",
    "leaflet_widget = Grass2Leaflet(F19).render(draw_control=True)\n",
    "sw_clean_fill3 = Grass2vector(['sw_clean_fill3'], name=True).makejson()\n",
    "leaflet_widget['map'].add_layer(sw_clean_fill3['sw_clean_fill3']['vlayer'])\n",
    "swc_thin_long_smooth_clean = Grass2vector(['swc_thin_long_smooth_clean'], name=True).makejson()\n",
    "leaflet_widget['map'].add_layer(swc_thin_long_smooth_clean['swc_thin_long_smooth_clean']['vlayer'])\n",
    "leaflet_widget['map'].center=(center_lat,center_long)\n",
    "leaflet_widget['map'].zoom = 18"
   ]
  },
  {
   "cell_type": "code",
   "execution_count": null,
   "metadata": {},
   "outputs": [],
   "source": [
    "!v.overlay ainput=swc_thin_long_smooth_clean atype=line binput=sw_clean_fill3 out=sw_ridges operator=and olayer=0,1,0 --o"
   ]
  },
  {
   "cell_type": "code",
   "execution_count": null,
   "metadata": {},
   "outputs": [],
   "source": [
    "F20 = Grass2img(['sw_clean_fill3']).makeimg()\n",
    "leaflet_widget = Grass2Leaflet(F20).render(draw_control=True)\n",
    "sw_ridges = Grass2vector(['sw_ridges'], name=True).makejson()\n",
    "sw_clean_fill3 = Grass2vector(['sw_clean_fill3'], name=True).makejson()\n",
    "leaflet_widget['map'].add_layer(sw_clean_fill3['sw_clean_fill3']['vlayer'])\n",
    "leaflet_widget['map'].add_layer(sw_ridges['sw_ridges']['vlayer'])\n",
    "leaflet_widget['map'].center=(center_lat,center_long)\n",
    "leaflet_widget['map'].zoom = 18"
   ]
  },
  {
   "cell_type": "code",
   "execution_count": null,
   "metadata": {},
   "outputs": [],
   "source": [
    "!v.buffer input=sw_ridges output=sw_buffer distance=1 --o"
   ]
  },
  {
   "cell_type": "code",
   "execution_count": null,
   "metadata": {},
   "outputs": [],
   "source": [
    "F21 = Grass2img(['sw_clean_fill3']).makeimg()\n",
    "leaflet_widget = Grass2Leaflet(F21).render(draw_control=True)\n",
    "sw_buffer = Grass2vector(['sw_buffer'], name=True).makejson()\n",
    "sw_clean_fill3 = Grass2vector(['sw_clean_fill3'], name=True).makejson()\n",
    "leaflet_widget['map'].add_layer(sw_clean_fill3['sw_clean_fill3']['vlayer'])\n",
    "leaflet_widget['map'].add_layer(sw_buffer['sw_buffer']['vlayer'])\n",
    "leaflet_widget['map'].center=(center_lat,center_long)\n",
    "leaflet_widget['map'].zoom = 18"
   ]
  },
  {
   "cell_type": "code",
   "execution_count": null,
   "metadata": {},
   "outputs": [],
   "source": [
    "!v.overlay ainput=sw_clean_fill3 binput=sw_buffer operator=not output=sw_splitted --o"
   ]
  },
  {
   "cell_type": "code",
   "execution_count": null,
   "metadata": {},
   "outputs": [],
   "source": [
    "F22 = Grass2img(['sw_clean_fill3']).makeimg()\n",
    "leaflet_widget = Grass2Leaflet(F22).render(draw_control=True)\n",
    "sw_splitted = Grass2vector(['sw_splitted'], name=True).makejson()\n",
    "leaflet_widget['map'].add_layer(sw_splitted['sw_splitted']['vlayer'])\n",
    "leaflet_widget['map'].center=(center_lat,center_long)\n",
    "leaflet_widget['map'].zoom = 18"
   ]
  },
  {
   "cell_type": "code",
   "execution_count": null,
   "metadata": {},
   "outputs": [],
   "source": [
    "#!v.generalize --overwrite input=swc_thin_long_smooth type=line output=swc_thin_long_smooth2 method=snakes threshold=1 alpha=3.0 beta=3.0\n"
   ]
  },
  {
   "cell_type": "code",
   "execution_count": null,
   "metadata": {},
   "outputs": [],
   "source": [
    "!v.split --overwrite input=swc_thin_long_smooth_clean output=ridges_smooth_split length=70\n"
   ]
  },
  {
   "cell_type": "code",
   "execution_count": null,
   "metadata": {},
   "outputs": [],
   "source": [
    "!v.transects --overwrite input=ridges_smooth_split output=ridges_smooth_transect transect_spacing=10 dleft=70 dright=70\n"
   ]
  },
  {
   "cell_type": "code",
   "execution_count": null,
   "metadata": {},
   "outputs": [],
   "source": [
    "F23 = Grass2img(['sw_clean_fill3']).makeimg()\n",
    "leaflet_widget = Grass2Leaflet(F23).render(draw_control=True)\n",
    "sw_splitted = Grass2vector(['sw_splitted'], name=True).makejson()\n",
    "leaflet_widget['map'].add_layer(sw_splitted['sw_splitted']['vlayer'])\n",
    "ridges_smooth_transect = Grass2vector(['ridges_smooth_transect'], name=True).makejson()\n",
    "leaflet_widget['map'].add_layer(ridges_smooth_transect['ridges_smooth_transect']['vlayer'])\n",
    "leaflet_widget['map'].center=(center_lat,center_long)\n",
    "leaflet_widget['map'].zoom = 18"
   ]
  }
 ],
 "metadata": {
  "kernelspec": {
   "display_name": "Python 3.5",
   "language": "python",
   "name": "python35"
  },
  "language_info": {
   "codemirror_mode": {
    "name": "ipython",
    "version": 3
   },
   "file_extension": ".py",
   "mimetype": "text/x-python",
   "name": "python",
   "nbconvert_exporter": "python",
   "pygments_lexer": "ipython3",
   "version": "3.5.2"
  }
 },
 "nbformat": 4,
 "nbformat_minor": 2
}
