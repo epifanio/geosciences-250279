{
 "cells": [
  {
   "cell_type": "markdown",
   "metadata": {},
   "source": [
    "* **Use the module [`g.extension`]() to install the following `GRASS GIS ADDONS`:**\n",
    "    * [`r.geomorphon`](https://grass.osgeo.org/grass72/manuals/addons/r.geomorphon.html)\n",
    "    * [`r.area`](https://grass.osgeo.org/grass72/manuals/addons/r.area.html)\n",
    "    * [`v.transects`](https://grass.osgeo.org/grass72/manuals/addons/v.transects.html)"
   ]
  },
  {
   "cell_type": "code",
   "execution_count": null,
   "metadata": {},
   "outputs": [],
   "source": [
    "%%file gutil.ipy\n",
    "import os\n",
    "import base64\n",
    "from IPython.display import HTML, display\n",
    "def makefigure(layers, label='', output=''):\n",
    "    html = \"<table><tr>\"\n",
    "    for i in layers:\n",
    "        outname=os.path.join(output,i+'.png')\n",
    "        rasterlist = !g.list raster\n",
    "        if i in rasterlist:\n",
    "            !r.out.png -t -w input={i} output={outname} --o --qq\n",
    "        else:\n",
    "            !v.out.png input={i} output={outname} --o --qq\n",
    "        imageFile = open(outname, \"rb\")\n",
    "        imagebyte = base64.b64encode(imageFile.read())\n",
    "        imagestr = imagebyte.decode()\n",
    "        html+=\"\"\"<td><p><img src=\"data:image/png;base64,%s\" alt=\"\" width='600'/></p></td>\"\"\" % imagestr\n",
    "    html += \"</tr></table><p><center>%s</center></p>\" % label \n",
    "    display(HTML(html))"
   ]
  },
  {
   "cell_type": "code",
   "execution_count": null,
   "metadata": {},
   "outputs": [],
   "source": [
    "!mkdir output"
   ]
  },
  {
   "cell_type": "code",
   "execution_count": null,
   "metadata": {},
   "outputs": [],
   "source": []
  },
  {
   "cell_type": "code",
   "execution_count": null,
   "metadata": {},
   "outputs": [],
   "source": [
    "%run gutil.ipy"
   ]
  },
  {
   "cell_type": "markdown",
   "metadata": {},
   "source": [
    "* **Get the bathymetry data**"
   ]
  },
  {
   "cell_type": "code",
   "execution_count": null,
   "metadata": {},
   "outputs": [],
   "source": [
    "!wget -O bathy_2015.tif https://nextcloud.epinux.com/index.php/s/4bgMkM8pgtLLNxQ/download -q --show-progress"
   ]
  },
  {
   "cell_type": "markdown",
   "metadata": {},
   "source": [
    "* **Import the data and set**\n",
    "\n",
    "    * `GRASS GIS` command: [`r.in.gdal`]()\n",
    "    \n",
    "* **Set the colortable to `haxby` with histogram equalization**\n",
    "\n",
    "    * `GRASS GIS` command: [`r.colors`]()"
   ]
  },
  {
   "cell_type": "code",
   "execution_count": null,
   "metadata": {},
   "outputs": [],
   "source": [
    "!r.in.gdal input=bathy_2015.tif \\\n",
    "           output=bathy_2015 -o -e --o --qq"
   ]
  },
  {
   "cell_type": "code",
   "execution_count": null,
   "metadata": {},
   "outputs": [],
   "source": [
    "!g.region raster=bathy_2015 -ap"
   ]
  },
  {
   "cell_type": "code",
   "execution_count": null,
   "metadata": {},
   "outputs": [],
   "source": [
    "!r.colors color=haxby \\\n",
    "          map=bathy_2015 -e --q"
   ]
  },
  {
   "cell_type": "markdown",
   "metadata": {},
   "source": [
    "* **Set the `GRASS GIS` working region to the extent of the control unit #1 (visually identified sand dune)**\n",
    "\n",
    "```\n",
    "north:      4546380\n",
    "south:      4546202\n",
    "west:       506185\n",
    "east:       506571\n",
    "```"
   ]
  },
  {
   "cell_type": "code",
   "execution_count": null,
   "metadata": {},
   "outputs": [],
   "source": [
    "!g.region n=4546380 \\\n",
    "          s=4546202 \\\n",
    "          w=506185 \\\n",
    "          e=506571 -apl"
   ]
  },
  {
   "cell_type": "code",
   "execution_count": null,
   "metadata": {},
   "outputs": [],
   "source": [
    "#thin crest detector\n",
    "!r.geomorphon elevation=bathy_2015 \\\n",
    "              forms=geomorphometry \\\n",
    "              search=9 \\\n",
    "              skip=3 \\\n",
    "              flat=2.0 \\\n",
    "              dist=0 \\\n",
    "              step=0 \\\n",
    "              start=0 --o --qq    \n",
    "!r.mapcalc expression=\"swc=if(geomorphometry==3 | geomorphometry==2,1, null())\" --o --q"
   ]
  },
  {
   "cell_type": "code",
   "execution_count": null,
   "metadata": {},
   "outputs": [],
   "source": [
    "makefigure(['bathy_2015', \n",
    "            'geomorphometry'], \n",
    "           label='Output of r.geomorphon, input parameters: search=9 skip=3 flat=2.0 dist=0 step=0 start=0 ')"
   ]
  },
  {
   "cell_type": "markdown",
   "metadata": {},
   "source": [
    "The whole GRM workflow can be divided into three sections:\n",
    "1. Extract and vectorize sand wave crest (SWC).\n",
    "2. Extract and vectorize sand wave main body (SW).\n",
    "3. Identify lee and stoss side and compute sand wave’s metrics.\n",
    "\n",
    "The sequence of each step are summarized and visually described below:\n",
    "\n",
    "`1. Extract and vectorize sand wave crest for each bedform`\n",
    "\n",
    "    1.1 Extraction of sand wave crest (SWC): From the TFE results (r.geomorphon), SWC are identified by extracted by reclassifying the cells with feature type equal to ridge and summit (feature type class: 2,3) into a new raster feature with category value 1 and setting the remaining cells to null (Figure 7)."
   ]
  },
  {
   "cell_type": "code",
   "execution_count": null,
   "metadata": {},
   "outputs": [],
   "source": [
    "makefigure(['geomorphometry', \n",
    "            'swc'], \n",
    "           label='<b>Figure 7:</b> Extraction of sand wave crest (SWC).')"
   ]
  },
  {
   "cell_type": "markdown",
   "metadata": {},
   "source": [
    "    1.2 SWC thinning: SWC areas are thinned and reduced to a single pixel width (Figure 8)."
   ]
  },
  {
   "cell_type": "code",
   "execution_count": null,
   "metadata": {},
   "outputs": [],
   "source": [
    "!r.thin input=swc \\\n",
    "        output=swc_thin \\\n",
    "        iterations=400 --o --q"
   ]
  },
  {
   "cell_type": "code",
   "execution_count": null,
   "metadata": {},
   "outputs": [],
   "source": [
    "makefigure(['swc', \n",
    "            'swc_thin'], \n",
    "           label='<b>Figure 8:</b> SWC thinning.')"
   ]
  },
  {
   "cell_type": "markdown",
   "metadata": {},
   "source": [
    "    1.3 SWC clumping: Each SWC is recategorized by grouping cells that form physically discrete areas into unique categories and assign a distinct color to each raster feature, different colors are assigned to each linear feature (Figure 9)."
   ]
  },
  {
   "cell_type": "code",
   "execution_count": null,
   "metadata": {},
   "outputs": [],
   "source": [
    "!r.clump input=swc_thin \\\n",
    "         output=swc_thin_clump -d --o --q"
   ]
  },
  {
   "cell_type": "code",
   "execution_count": null,
   "metadata": {},
   "outputs": [],
   "source": [
    "makefigure(['swc_thin', \n",
    "            'swc_thin_clump'], \n",
    "           label='<b>Figure 9:</b> SWC clumping.')"
   ]
  },
  {
   "cell_type": "markdown",
   "metadata": {},
   "source": [
    "    1.4 SWC filtering by length: Each feature with same category shorter than a given threshold is removed (Figure 10).\n"
   ]
  },
  {
   "cell_type": "code",
   "execution_count": null,
   "metadata": {},
   "outputs": [],
   "source": [
    "!r.area input=swc_thin_clump \\\n",
    "        output=swc_thin_long \\\n",
    "        lesser=70 --o --q"
   ]
  },
  {
   "cell_type": "code",
   "execution_count": null,
   "metadata": {},
   "outputs": [],
   "source": [
    "makefigure(['swc_thin_clump', \n",
    "            'swc_thin_long'], \n",
    "           label='<b>Figure 10:</b> SWC filtering by length.')"
   ]
  },
  {
   "cell_type": "markdown",
   "metadata": {},
   "source": [
    "    1.5 SWC vectorization: Conversion from raster to vector to obtain a vector feature of type line representing an approximate sand wave crest (Figure 11)."
   ]
  },
  {
   "cell_type": "code",
   "execution_count": null,
   "metadata": {},
   "outputs": [],
   "source": [
    "!r.to.vect input=swc_thin_long \\\n",
    "           output=swc_thin_long_v \\\n",
    "           type=line --o --qq"
   ]
  },
  {
   "cell_type": "code",
   "execution_count": null,
   "metadata": {},
   "outputs": [],
   "source": [
    "makefigure(['swc_thin_long', \n",
    "            'swc_thin_long_v'], \n",
    "           label='<b>Figure 11:</b> SWC vectorization.')"
   ]
  },
  {
   "cell_type": "markdown",
   "metadata": {},
   "source": [
    "    1.6 SWC topological cleaning: Line features are cleaned by removing any dangle (Figure 12)."
   ]
  },
  {
   "cell_type": "code",
   "execution_count": null,
   "metadata": {},
   "outputs": [],
   "source": [
    "!v.generalize input=swc_thin_long_v \\\n",
    "              output=swc_thin_long_smooth_v \\\n",
    "              method=douglas \\\n",
    "              threshold=2 --o --qq"
   ]
  },
  {
   "cell_type": "code",
   "execution_count": null,
   "metadata": {},
   "outputs": [],
   "source": [
    "makefigure(['swc_thin_long_v', \n",
    "            'swc_thin_long_smooth_v'], \n",
    "           label='<b>Figure 12:</b> SWC topological cleaning.')"
   ]
  },
  {
   "cell_type": "markdown",
   "metadata": {},
   "source": [
    "    1.7 SWC smoothing: A low pass filter is used to obtain a vectorized Sand Wave Crest (Figure 13)."
   ]
  },
  {
   "cell_type": "code",
   "execution_count": null,
   "metadata": {},
   "outputs": [],
   "source": [
    "!v.clean input=swc_thin_long_smooth_v \\\n",
    "         output=swc_thin_long_smooth_clean_v \\\n",
    "         type=line \\\n",
    "         tool=rmdangle,rmdangle,rmdangle,rmdangle \\\n",
    "         threshold=5,10,20,30 --o --qq\n"
   ]
  },
  {
   "cell_type": "code",
   "execution_count": null,
   "metadata": {
    "scrolled": false
   },
   "outputs": [],
   "source": [
    "makefigure(['swc_thin_long_smooth_v', \n",
    "            'swc_thin_long_smooth_clean_v'], \n",
    "           label='<b>Figure 13:</b> SWC smoothing.')"
   ]
  },
  {
   "cell_type": "markdown",
   "metadata": {},
   "source": [
    "`2 Identify areas covered by large scale bedforms`\n",
    "\n",
    "    2.1 Sand wave (SW) extraction: From the TFE results (r.geomorphon), the entire landform is extracted by reclassifying the cells with feature type equal to summit, ridge, spur, and slope (feature type: class 2, 3, 5, 6) into a new raster feature with category value 1, and setting the remaining cells to null (Figure 14)."
   ]
  },
  {
   "cell_type": "code",
   "execution_count": null,
   "metadata": {},
   "outputs": [],
   "source": [
    "!g.region n=4546380 \\\n",
    "          s=4546202 \\\n",
    "          w=506185 \\\n",
    "          e=506571 -ap"
   ]
  },
  {
   "cell_type": "code",
   "execution_count": null,
   "metadata": {},
   "outputs": [],
   "source": [
    "!r.geomorphon elevation=bathy_2015 \\\n",
    "              forms=geomorphometry_sw \\\n",
    "              search=30 \\\n",
    "              skip=9 \\\n",
    "              flat=3.7 \\\n",
    "              dist=15 \\\n",
    "              step=0 \\\n",
    "              start=0 --o --qq"
   ]
  },
  {
   "cell_type": "code",
   "execution_count": null,
   "metadata": {},
   "outputs": [],
   "source": [
    "!r.mapcalc \\\n",
    "    expression=\"sw=if(geomorphometry_sw==3 | geomorphometry_sw==2 | geomorphometry_sw==6 | geomorphometry_sw==5 , 1, null())\" \\\n",
    "    --o --qq\n"
   ]
  },
  {
   "cell_type": "code",
   "execution_count": null,
   "metadata": {},
   "outputs": [],
   "source": [
    "makefigure(['geomorphometry_sw', \n",
    "            'sw'], \n",
    "           label='<b>Figure 14:</b> Sand wave (SW) extraction.')"
   ]
  },
  {
   "cell_type": "markdown",
   "metadata": {},
   "source": [
    "    2.2 SW clumping: The SW raster map is recategorized by grouping cells that form physically discrete areas into unique categories and assign a distinct color to each raster feature (Figure 15)."
   ]
  },
  {
   "cell_type": "code",
   "execution_count": null,
   "metadata": {},
   "outputs": [],
   "source": [
    "!r.clump input=sw \\\n",
    "         output=sw_clump -d --o --qq"
   ]
  },
  {
   "cell_type": "code",
   "execution_count": null,
   "metadata": {},
   "outputs": [],
   "source": [
    "makefigure(['sw', \n",
    "            'sw_clump'], \n",
    "           label='<b>Figure 15:</b> SW clumping.')"
   ]
  },
  {
   "cell_type": "markdown",
   "metadata": {},
   "source": [
    "    2.3 SW filtering by area: Each raster feature is reclassified based on its area, all the features having an area smaller than a given threshold are removed (Figure 16)."
   ]
  },
  {
   "cell_type": "code",
   "execution_count": null,
   "metadata": {},
   "outputs": [],
   "source": [
    "!r.area input=sw_clump \\\n",
    "        output=sw_clean \\\n",
    "        lesser=1000 --o --qq"
   ]
  },
  {
   "cell_type": "code",
   "execution_count": null,
   "metadata": {},
   "outputs": [],
   "source": [
    "makefigure(['sw_clump', \n",
    "            'sw_clean'], \n",
    "           label='<b>Figure 16:</b> SWC filtering by area.')"
   ]
  },
  {
   "cell_type": "markdown",
   "metadata": {},
   "source": [
    "    2.4 SW filling: Null cells within the discrete areas are filled with the same category of the surrounding pixels (Figure 17)."
   ]
  },
  {
   "cell_type": "code",
   "execution_count": null,
   "metadata": {},
   "outputs": [],
   "source": [
    "!r.neighbors input=sw_clean \\\n",
    "             output=sw_clean_fill3 \\\n",
    "             method=maximum --o --qq"
   ]
  },
  {
   "cell_type": "code",
   "execution_count": null,
   "metadata": {},
   "outputs": [],
   "source": [
    "makefigure(['sw_clean', \n",
    "            'sw_clean_fill3'], \n",
    "           label='<b>Figure 17:</b> SW filling.')"
   ]
  },
  {
   "cell_type": "markdown",
   "metadata": {},
   "source": [
    "    2.5 SW vectorization: Conversion from raster to vector to obtain a vector feature of type polygon representing an approximate sand wave body (Figure 18)."
   ]
  },
  {
   "cell_type": "code",
   "execution_count": null,
   "metadata": {},
   "outputs": [],
   "source": [
    "!r.to.vect input=sw_clean_fill3 \\\n",
    "           output=sw_clean_fill3_v \\\n",
    "           type=area --o --qq"
   ]
  },
  {
   "cell_type": "code",
   "execution_count": null,
   "metadata": {},
   "outputs": [],
   "source": [
    "!g.region n=4546380 \\\n",
    "          s=4546202 \\\n",
    "          w=506185 \\\n",
    "          e=506571 -ap"
   ]
  },
  {
   "cell_type": "code",
   "execution_count": null,
   "metadata": {},
   "outputs": [],
   "source": [
    "makefigure(['sw_clean_fill3', \n",
    "            'sw_clean_fill3_v'], \n",
    "           label='<b>Figure 18:</b> SW vectorization.')"
   ]
  },
  {
   "cell_type": "markdown",
   "metadata": {},
   "source": [
    "`3 Identify lee and stoss side and compute sand wave’s metrics`\n",
    "\n",
    "    3.1 SW and SWC overlay: The vectorized sand wave crest is overlaid on top of the polygonal area representing the sand wave body (Figure 19)."
   ]
  },
  {
   "cell_type": "code",
   "execution_count": null,
   "metadata": {},
   "outputs": [],
   "source": [
    "makefigure(['sw_clean_fill3_v', \n",
    "            'swc_thin_long_smooth_clean_v'], \n",
    "           label='<b>Figure 19:</b> SW and SWC overlay.')"
   ]
  },
  {
   "cell_type": "markdown",
   "metadata": {},
   "source": [
    "    3.2 SWC clipping: The portion of the sand wave crest that is not included in the sand wave body is removed (Figure 20)."
   ]
  },
  {
   "cell_type": "code",
   "execution_count": null,
   "metadata": {},
   "outputs": [],
   "source": [
    "!v.overlay ainput=swc_thin_long_smooth_clean_v \\\n",
    "           atype=line \\\n",
    "           binput=sw_clean_fill3_v \\\n",
    "           out=sw_ridges_v \\\n",
    "           operator=and \\\n",
    "           olayer=0,1,0 --o --qq"
   ]
  },
  {
   "cell_type": "code",
   "execution_count": null,
   "metadata": {},
   "outputs": [],
   "source": [
    "makefigure(['sw_clean_fill3_v', \n",
    "            'sw_ridges_v'], \n",
    "           label='<b>Figure 20:</b> SWC clipping.')"
   ]
  },
  {
   "cell_type": "markdown",
   "metadata": {},
   "source": [
    "    3.3 SWC buffering: A polygonal area is created by buffering the sand wave crest (buffer distance equal to the DBM cell size) (Figure 21)."
   ]
  },
  {
   "cell_type": "code",
   "execution_count": null,
   "metadata": {},
   "outputs": [],
   "source": [
    "!v.buffer input=sw_ridges_v \\\n",
    "          output=sw_buffer_v \\\n",
    "          distance=1 --o --qq"
   ]
  },
  {
   "cell_type": "code",
   "execution_count": null,
   "metadata": {},
   "outputs": [],
   "source": [
    "makefigure(['sw_ridges_v', \n",
    "            'sw_buffer_v'], \n",
    "           label='<b>Figure 21:</b> SWC buffering.')"
   ]
  },
  {
   "cell_type": "markdown",
   "metadata": {},
   "source": [
    "    3.4 SW splitting: The buffered sand wave crest is used to split the sand wave body into two parts (Figure 22)."
   ]
  },
  {
   "cell_type": "code",
   "execution_count": null,
   "metadata": {},
   "outputs": [],
   "source": [
    "!v.overlay ainput=sw_clean_fill3_v \\\n",
    "           binput=sw_buffer_v \\\n",
    "           operator=not \\\n",
    "           output=sw_splitted_v --o --qq"
   ]
  },
  {
   "cell_type": "code",
   "execution_count": null,
   "metadata": {},
   "outputs": [],
   "source": [
    "makefigure(['sw_clean_fill3_v', \n",
    "            'sw_splitted_v'], \n",
    "           label='<b>Figure 22:</b> SW splitting.')"
   ]
  },
  {
   "cell_type": "markdown",
   "metadata": {},
   "source": [
    "    3.5 Identification of stoss and lee side: the identification is achieved by performing an univariate statistical analysis on the DBM slope, using each sand wave side as a mask. The side with the higher values of the slope is assigned the label of lee side and is colored in grey, while the side with the lower values of the slope is assigned the label of stoss side (Figure 23)."
   ]
  },
  {
   "cell_type": "code",
   "execution_count": null,
   "metadata": {},
   "outputs": [],
   "source": [
    "!v.split input=swc_thin_long_smooth_clean_v \\\n",
    "         output=ridges_smooth_split_v \\\n",
    "         length=70 --o --qq"
   ]
  },
  {
   "cell_type": "code",
   "execution_count": null,
   "metadata": {},
   "outputs": [],
   "source": [
    "makefigure(['sw_clean_fill3_v', \n",
    "            'sw_splitted_v'], \n",
    "           label=\"<b>Figure 23:</b> identification of dune's side.\")"
   ]
  },
  {
   "cell_type": "markdown",
   "metadata": {},
   "source": [
    "    3.6 SW height: Derivation of SW height by generating a series of vertical profiles along several transects perpendicular to SWC. The spacing between the equidistant vertical profiles is given by an input parameter and set to 10 m as default value, the length of each profile is also variable by the user (by default is set to be the same length of the sand wave ridge) (Figure 24)."
   ]
  },
  {
   "cell_type": "code",
   "execution_count": null,
   "metadata": {},
   "outputs": [],
   "source": [
    "!v.transects input=ridges_smooth_split_v \\\n",
    "             output=ridges_smooth_transect_v \\\n",
    "             transect_spacing=10 \\\n",
    "             dleft=70 \\\n",
    "             dright=70 --o --qq\n"
   ]
  },
  {
   "cell_type": "code",
   "execution_count": null,
   "metadata": {},
   "outputs": [],
   "source": [
    "makefigure(['sw_splitted_v', \n",
    "            'ridges_smooth_transect_v'], \n",
    "           label=\"<center><b>Figure 24:</b> Generate transects to be used as vertical profiles.</center>\")\n"
   ]
  }
 ],
 "metadata": {
  "kernelspec": {
   "display_name": "Python 3",
   "language": "python",
   "name": "python3"
  },
  "language_info": {
   "codemirror_mode": {
    "name": "ipython",
    "version": 3
   },
   "file_extension": ".py",
   "mimetype": "text/x-python",
   "name": "python",
   "nbconvert_exporter": "python",
   "pygments_lexer": "ipython3",
   "version": "3.6.4"
  }
 },
 "nbformat": 4,
 "nbformat_minor": 2
}
