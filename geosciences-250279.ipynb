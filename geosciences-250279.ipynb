{
 "cells": [
  {
   "cell_type": "markdown",
   "metadata": {},
   "source": [
    "* **Use the module [`g.extension`]() to install the following `GRASS GIS ADDONS`:**\n",
    "    * [`r.geomorphon`](https://grass.osgeo.org/grass72/manuals/addons/r.geomorphon.html)\n",
    "    * [`r.area`](https://grass.osgeo.org/grass72/manuals/addons/r.area.html)\n",
    "    * [`v.transects`](https://grass.osgeo.org/grass72/manuals/addons/v.transects.html)"
   ]
  },
  {
   "cell_type": "code",
   "execution_count": null,
   "metadata": {},
   "outputs": [],
   "source": [
    "%%file gutil.ipy\n",
    "import base64\n",
    "from IPython.display import HTML, display\n",
    "def makefigure(layers, label=''):\n",
    "    html = \"<table><tr>\"\n",
    "    for i in layers:\n",
    "        outname=i+'.png'\n",
    "        rasterlist = !g.list raster\n",
    "        if i in rasterlist:\n",
    "            !r.out.png -t -w input={i} output={i}.png --o --qq\n",
    "        else:\n",
    "            !v.out.png input={i} output={i}.png --o --qq\n",
    "        imageFile = open(outname, \"rb\")\n",
    "        imagebyte = base64.b64encode(imageFile.read())\n",
    "        imagestr = imagebyte.decode()\n",
    "        html+=\"\"\"<td><p><img src=\"data:image/png;base64,%s\" alt=\"\" width='600'/></p></td>\"\"\" % imagestr\n",
    "    html += \"</tr></table><p><center>%s</center></p>\" % label \n",
    "    display(HTML(html))"
   ]
  },
  {
   "cell_type": "code",
   "execution_count": null,
   "metadata": {},
   "outputs": [],
   "source": [
    "%run gutil.ipy"
   ]
  },
  {
   "cell_type": "markdown",
   "metadata": {},
   "source": [
    "* **Get the bathymetry data**"
   ]
  },
  {
   "cell_type": "code",
   "execution_count": null,
   "metadata": {},
   "outputs": [],
   "source": [
    "!wget -O bathy_2015.tif https://nextcloud.epinux.com/index.php/s/4bgMkM8pgtLLNxQ/download -q --show-progress"
   ]
  },
  {
   "cell_type": "markdown",
   "metadata": {},
   "source": [
    "* **Import the data and set**\n",
    "\n",
    "    * `GRASS GIS` command: [`r.in.gdal`]()\n",
    "    \n",
    "* **Set the colortable to `haxby` with histogram equalization**\n",
    "\n",
    "    * `GRASS GIS` command: [`r.colors`]()"
   ]
  },
  {
   "cell_type": "code",
   "execution_count": null,
   "metadata": {},
   "outputs": [],
   "source": [
    "!r.in.gdal input=bathy_2015.tif -o -e output=bathy_2015 --o --qq"
   ]
  },
  {
   "cell_type": "code",
   "execution_count": null,
   "metadata": {},
   "outputs": [],
   "source": [
    "!g.region raster=bathy_2015 -ap"
   ]
  },
  {
   "cell_type": "code",
   "execution_count": null,
   "metadata": {},
   "outputs": [],
   "source": [
    "!r.colors -e color=haxby map=bathy_2015 --q"
   ]
  },
  {
   "cell_type": "markdown",
   "metadata": {},
   "source": [
    "* **Set the `GRASS GIS` working region to the extent of the control unit #1 (visually identified sand dune)**\n",
    "\n",
    "```\n",
    "north:      4546380\n",
    "south:      4546202\n",
    "west:       506185\n",
    "east:       506571\n",
    "```"
   ]
  },
  {
   "cell_type": "code",
   "execution_count": null,
   "metadata": {},
   "outputs": [],
   "source": [
    "!g.region n=4546380 s=4546202 w=506185 e=506571 -apl"
   ]
  },
  {
   "cell_type": "code",
   "execution_count": null,
   "metadata": {},
   "outputs": [],
   "source": [
    "#thin crest detector\n",
    "!r.geomorphon --overwrite elevation=bathy_2015 forms=geomorphometry search=9 skip=3 flat=2.0 dist=0 step=0 start=0 --qq    \n",
    "!r.mapcalc expression=\"swc=if(geomorphometry==3 | geomorphometry==2,1, null())\" --o --q"
   ]
  },
  {
   "cell_type": "code",
   "execution_count": null,
   "metadata": {},
   "outputs": [],
   "source": [
    "makefigure(['bathy_2015', 'geomorphometry'], \n",
    "           label='Output of r.geomorphon, input parameters: search=9 skip=3 flat=2.0 dist=0 step=0 start=0 ')"
   ]
  },
  {
   "cell_type": "code",
   "execution_count": null,
   "metadata": {},
   "outputs": [],
   "source": [
    "makefigure(['geomorphometry', 'swc'], label='<b>Figure 7:</b> Extraction of sand wave crest (SWC).')"
   ]
  },
  {
   "cell_type": "code",
   "execution_count": null,
   "metadata": {},
   "outputs": [],
   "source": [
    "!r.thin input=swc output=swc_thin iterations=400 --o --q"
   ]
  },
  {
   "cell_type": "code",
   "execution_count": null,
   "metadata": {},
   "outputs": [],
   "source": [
    "makefigure(['swc', 'swc_thin'], label='<b>Figure 8:</b> SWC thinning.')"
   ]
  },
  {
   "cell_type": "code",
   "execution_count": null,
   "metadata": {},
   "outputs": [],
   "source": [
    "!r.clump -d --overwrite input=swc_thin output=swc_thin_clump --q"
   ]
  },
  {
   "cell_type": "code",
   "execution_count": null,
   "metadata": {},
   "outputs": [],
   "source": [
    "makefigure(['swc_thin', 'swc_thin_clump'], label='<b>Figure 9:</b> SWC clumping.')"
   ]
  },
  {
   "cell_type": "code",
   "execution_count": null,
   "metadata": {},
   "outputs": [],
   "source": [
    "!r.area --overwrite input=swc_thin_clump output=swc_thin_long lesser=70 --q"
   ]
  },
  {
   "cell_type": "code",
   "execution_count": null,
   "metadata": {},
   "outputs": [],
   "source": [
    "makefigure(['swc_thin_clump','swc_thin_long'], label='<b>Figure 10:</b> SWC filtering by length.')"
   ]
  },
  {
   "cell_type": "code",
   "execution_count": null,
   "metadata": {},
   "outputs": [],
   "source": [
    "!r.to.vect input=swc_thin_long output=swc_thin_long_v type=line --o --qq"
   ]
  },
  {
   "cell_type": "code",
   "execution_count": null,
   "metadata": {},
   "outputs": [],
   "source": [
    "makefigure(['swc_thin_long','swc_thin_long_v'], label='<b>Figure 11:</b> SWC vectorization.')"
   ]
  },
  {
   "cell_type": "code",
   "execution_count": null,
   "metadata": {},
   "outputs": [],
   "source": [
    "!v.generalize --overwrite input=swc_thin_long_v output=swc_thin_long_smooth_v method=douglas threshold=2 --qq"
   ]
  },
  {
   "cell_type": "code",
   "execution_count": null,
   "metadata": {},
   "outputs": [],
   "source": [
    "makefigure(['swc_thin_long_v', 'swc_thin_long_smooth_v'], label='<b>Figure 12:</b> SWC topological cleaning.')"
   ]
  },
  {
   "cell_type": "code",
   "execution_count": null,
   "metadata": {},
   "outputs": [],
   "source": [
    "!v.clean input=swc_thin_long_smooth_v output=swc_thin_long_smooth_clean_v type=line tool=rmdangle,rmdangle,rmdangle,rmdangle threshold=5,10,20,30 --o --qq\n"
   ]
  },
  {
   "cell_type": "code",
   "execution_count": null,
   "metadata": {
    "scrolled": false
   },
   "outputs": [],
   "source": [
    "makefigure(['swc_thin_long_smooth_v', 'swc_thin_long_smooth_clean_v'], label='<b>Figure 13:</b> SWC smoothing.')"
   ]
  },
  {
   "cell_type": "code",
   "execution_count": null,
   "metadata": {},
   "outputs": [],
   "source": [
    "!g.region n=4546380 s=4546202 w=506185 e=506571 -ap"
   ]
  },
  {
   "cell_type": "code",
   "execution_count": null,
   "metadata": {},
   "outputs": [],
   "source": [
    "# large scale features\n",
    "!r.geomorphon elevation=bathy_2015 forms=geomorphometry_sw search=30 skip=9 flat=3.7 dist=15 step=0 start=0 --o --qq"
   ]
  },
  {
   "cell_type": "code",
   "execution_count": null,
   "metadata": {},
   "outputs": [],
   "source": [
    "!r.mapcalc expression=\"sw=if(geomorphometry_sw==3 | geomorphometry_sw==2 | geomorphometry_sw==6 | geomorphometry_sw==5 , 1, null())\" --o --qq\n"
   ]
  },
  {
   "cell_type": "code",
   "execution_count": null,
   "metadata": {},
   "outputs": [],
   "source": [
    "makefigure(['geomorphometry_sw', 'sw'], label='<b>Figure 14:</b> Sand wave (SW) extraction.')"
   ]
  },
  {
   "cell_type": "code",
   "execution_count": null,
   "metadata": {},
   "outputs": [],
   "source": [
    "!r.clump -d --overwrite input=sw output=sw_clump --qq"
   ]
  },
  {
   "cell_type": "code",
   "execution_count": null,
   "metadata": {},
   "outputs": [],
   "source": [
    "makefigure(['sw', 'sw_clump'], label='<b>Figure 15:</b> SW clumping.')"
   ]
  },
  {
   "cell_type": "code",
   "execution_count": null,
   "metadata": {},
   "outputs": [],
   "source": [
    "!r.area input=sw_clump output=sw_clean lesser=1000 --o --qq"
   ]
  },
  {
   "cell_type": "code",
   "execution_count": null,
   "metadata": {},
   "outputs": [],
   "source": [
    "makefigure(['sw_clump', 'sw_clean'], label='<b>Figure 16:</b> SWC filtering by area.')"
   ]
  },
  {
   "cell_type": "code",
   "execution_count": null,
   "metadata": {},
   "outputs": [],
   "source": [
    "!r.neighbors input=sw_clean output=sw_clean_fill3 method=maximum --o --qq"
   ]
  },
  {
   "cell_type": "code",
   "execution_count": null,
   "metadata": {},
   "outputs": [],
   "source": [
    "makefigure(['sw_clean','sw_clean_fill3'], label='<b>Figure 17:</b> SW filling.')"
   ]
  },
  {
   "cell_type": "code",
   "execution_count": null,
   "metadata": {},
   "outputs": [],
   "source": [
    "!r.to.vect input=sw_clean_fill3 output=sw_clean_fill3_v type=area --o --qq"
   ]
  },
  {
   "cell_type": "code",
   "execution_count": null,
   "metadata": {},
   "outputs": [],
   "source": [
    "!g.region n=4546380 s=4546202 w=506185 e=506571 -ap"
   ]
  },
  {
   "cell_type": "code",
   "execution_count": null,
   "metadata": {},
   "outputs": [],
   "source": [
    "makefigure(['sw_clean_fill3','sw_clean_fill3_v'], label='<b>Figure 18:</b> SW vectorization.')"
   ]
  },
  {
   "cell_type": "code",
   "execution_count": null,
   "metadata": {},
   "outputs": [],
   "source": [
    "makefigure(['sw_clean_fill3_v','swc_thin_long_smooth_clean_v'], label='<b>Figure 19:</b> SW and SWC overlay.')"
   ]
  },
  {
   "cell_type": "code",
   "execution_count": null,
   "metadata": {},
   "outputs": [],
   "source": [
    "!v.overlay ainput=swc_thin_long_smooth_clean_v atype=line binput=sw_clean_fill3_v out=sw_ridges_v operator=and olayer=0,1,0 --o --qq\n"
   ]
  },
  {
   "cell_type": "code",
   "execution_count": null,
   "metadata": {},
   "outputs": [],
   "source": [
    "makefigure(['sw_clean_fill3_v','sw_ridges_v'], label='<b>Figure 20:</b> SWC clipping.')"
   ]
  },
  {
   "cell_type": "code",
   "execution_count": null,
   "metadata": {},
   "outputs": [],
   "source": [
    "!v.buffer input=sw_ridges_v output=sw_buffer_v distance=1 --o --qq"
   ]
  },
  {
   "cell_type": "code",
   "execution_count": null,
   "metadata": {},
   "outputs": [],
   "source": [
    "makefigure(['sw_ridges_v','sw_buffer_v'], label='<b>Figure 21:</b> SWC buffering.')"
   ]
  },
  {
   "cell_type": "code",
   "execution_count": null,
   "metadata": {},
   "outputs": [],
   "source": [
    "!v.overlay ainput=sw_clean_fill3_v binput=sw_buffer_v operator=not output=sw_splitted_v --o --qq"
   ]
  },
  {
   "cell_type": "code",
   "execution_count": null,
   "metadata": {},
   "outputs": [],
   "source": [
    "makefigure(['sw_clean_fill3_v','sw_splitted_v'], label='<b>Figure 22:</b> SW splitting.')"
   ]
  },
  {
   "cell_type": "code",
   "execution_count": null,
   "metadata": {},
   "outputs": [],
   "source": [
    "#!v.generalize --overwrite input=swc_thin_long_smooth type=line output=swc_thin_long_smooth2 method=snakes threshold=1 alpha=3.0 beta=3.0"
   ]
  },
  {
   "cell_type": "code",
   "execution_count": null,
   "metadata": {},
   "outputs": [],
   "source": [
    "!v.split --overwrite input=swc_thin_long_smooth_clean_v output=ridges_smooth_split_v length=70 --qq"
   ]
  },
  {
   "cell_type": "code",
   "execution_count": null,
   "metadata": {},
   "outputs": [],
   "source": [
    "!v.transects --overwrite input=ridges_smooth_split_v output=ridges_smooth_transect_v transect_spacing=10 dleft=70 dright=70 --qq\n"
   ]
  },
  {
   "cell_type": "code",
   "execution_count": null,
   "metadata": {},
   "outputs": [],
   "source": [
    "makefigure(['sw_clean_fill3_v','sw_splitted_v'], label=\"<b>Figure 23:</b> identification od dune's side.\")"
   ]
  },
  {
   "cell_type": "code",
   "execution_count": null,
   "metadata": {},
   "outputs": [],
   "source": [
    "makefigure(['sw_splitted_v','ridges_smooth_transect_v'], label=\"<center><b>Figure 23:</b> identification of dune's side.</center>\")\n"
   ]
  }
 ],
 "metadata": {
  "kernelspec": {
   "display_name": "Python 3",
   "language": "python",
   "name": "python3"
  },
  "language_info": {
   "codemirror_mode": {
    "name": "ipython",
    "version": 3
   },
   "file_extension": ".py",
   "mimetype": "text/x-python",
   "name": "python",
   "nbconvert_exporter": "python",
   "pygments_lexer": "ipython3",
   "version": "3.6.4"
  }
 },
 "nbformat": 4,
 "nbformat_minor": 2
}
