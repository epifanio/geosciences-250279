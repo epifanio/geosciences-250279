{
 "cells": [
  {
   "cell_type": "markdown",
   "metadata": {},
   "source": [
    "* **Use the module [`g.extension`]() to install the following `GRASS GIS ADDONS`:**\n",
    "    * [`r.geomorphon`](https://grass.osgeo.org/grass72/manuals/addons/r.geomorphon.html)\n",
    "    * [`r.area`](https://grass.osgeo.org/grass72/manuals/addons/r.area.html)\n",
    "    * [`v.transects`](https://grass.osgeo.org/grass72/manuals/addons/v.transects.html)"
   ]
  },
  {
   "cell_type": "code",
   "execution_count": 1,
   "metadata": {},
   "outputs": [
    {
     "name": "stdout",
     "output_type": "stream",
     "text": [
      "Writing gutil.ipy\n"
     ]
    }
   ],
   "source": [
    "%%file gutil.ipy\n",
    "from IPython.display import HTML, display\n",
    "def makefigure(layers, label=''):\n",
    "    html = \"<table><tr>\"\n",
    "    for i in layers:\n",
    "        rasterlist = !g.list raster\n",
    "        if i in rasterlist:\n",
    "            !r.out.png -t -w input={i} output={i}.png --o --qq\n",
    "        else:\n",
    "            !v.out.png input={i} output={i}.png --o --qq\n",
    "        html += \"<td><img src='%s.png' width='600'></td>\" % i\n",
    "    html += \"</tr></table><p><center>%s</center></p>\" % label \n",
    "    display(HTML(html))"
   ]
  },
  {
   "cell_type": "code",
   "execution_count": 2,
   "metadata": {},
   "outputs": [],
   "source": [
    "%run gutil.ipy"
   ]
  },
  {
   "cell_type": "markdown",
   "metadata": {},
   "source": [
    "* **Get the bathymetry data**"
   ]
  },
  {
   "cell_type": "code",
   "execution_count": 3,
   "metadata": {},
   "outputs": [
    {
     "name": "stdout",
     "output_type": "stream",
     "text": [
      "bathy_2015.tif      100%[===================>]  17.91M  --.-KB/s    in 0.06s   \n"
     ]
    }
   ],
   "source": [
    "!wget -O bathy_2015.tif https://nextcloud.epinux.com/index.php/s/4bgMkM8pgtLLNxQ/download -q --show-progress"
   ]
  },
  {
   "cell_type": "markdown",
   "metadata": {},
   "source": [
    "* **Import the data and set**\n",
    "\n",
    "    * `GRASS GIS` command: [`r.in.gdal`]()\n",
    "    \n",
    "* **Set the colortable to `haxby` with histogram equalization**\n",
    "\n",
    "    * `GRASS GIS` command: [`r.colors`]()"
   ]
  },
  {
   "cell_type": "code",
   "execution_count": 4,
   "metadata": {},
   "outputs": [],
   "source": [
    "!r.in.gdal input=bathy_2015.tif -o -e output=bathy_2015 --o --qq"
   ]
  },
  {
   "cell_type": "code",
   "execution_count": 5,
   "metadata": {},
   "outputs": [
    {
     "name": "stdout",
     "output_type": "stream",
     "text": [
      "projection: 1 (UTM)\r\n",
      "zone:       19\r\n",
      "datum:      wgs84\r\n",
      "ellipsoid:  wgs84\r\n",
      "north:      4546448.49987433\r\n",
      "south:      4545769.24228443\r\n",
      "west:       505691.47804011\r\n",
      "east:       509148.78913096\r\n",
      "nsres:      1.00037937\r\n",
      "ewres:      1.00037937\r\n",
      "rows:       679\r\n",
      "cols:       3456\r\n",
      "cells:      2346624\r\n"
     ]
    }
   ],
   "source": [
    "!g.region raster=bathy_2015 -ap"
   ]
  },
  {
   "cell_type": "code",
   "execution_count": 6,
   "metadata": {},
   "outputs": [],
   "source": [
    "!r.colors -e color=haxby map=bathy_2015 --q"
   ]
  },
  {
   "cell_type": "markdown",
   "metadata": {},
   "source": [
    "* **Set the `GRASS GIS` working region to the extent of the control unit #1 (visually identified sand dune)**\n",
    "\n",
    "```\n",
    "north:      4546380\n",
    "south:      4546202\n",
    "west:       506185\n",
    "east:       506571\n",
    "```"
   ]
  },
  {
   "cell_type": "code",
   "execution_count": 7,
   "metadata": {},
   "outputs": [
    {
     "name": "stdout",
     "output_type": "stream",
     "text": [
      "projection:        1 (UTM)\r\n",
      "zone:              19\r\n",
      "datum:             wgs84\r\n",
      "ellipsoid:         wgs84\r\n",
      "north:             4546380\r\n",
      "south:             4546202\r\n",
      "west:              506185\r\n",
      "east:              506571\r\n",
      "nsres:             1\r\n",
      "ewres:             1\r\n",
      "rows:              178\r\n",
      "cols:              386\r\n",
      "cells:             68708\r\n",
      "north-west corner: long: 68:55:34.973432W lat: 41:04:07.123165N\r\n",
      "north-east corner: long: 68:55:18.433388W lat: 41:04:07.112269N\r\n",
      "south-east corner: long: 68:55:18.440228W lat: 41:04:01.339863N\r\n",
      "south-west corner: long: 68:55:34.97987W lat: 41:04:01.350758N\r\n",
      "center longitude:  68:55:26.70673W\r\n",
      "center latitude:   41:04:04.231514N\r\n"
     ]
    }
   ],
   "source": [
    "!g.region n=4546380 s=4546202 w=506185 e=506571 -apl"
   ]
  },
  {
   "cell_type": "code",
   "execution_count": 8,
   "metadata": {},
   "outputs": [],
   "source": [
    "#thin crest detector\n",
    "!r.geomorphon --overwrite elevation=bathy_2015 forms=geomorphometry search=9 skip=3 flat=2.0 dist=0 step=0 start=0 --qq    \n",
    "!r.mapcalc expression=\"swc=if(geomorphometry==3 | geomorphometry==2,1, null())\" --o --q"
   ]
  },
  {
   "cell_type": "code",
   "execution_count": 9,
   "metadata": {},
   "outputs": [
    {
     "data": {
      "text/html": [
       "<table><tr><td><img src='bathy_2015.png' width='600'></td><td><img src='geomorphometry.png' width='600'></td></tr></table><p><center>Output of r.geomorphon, input parameters: search=9 skip=3 flat=2.0 dist=0 step=0 start=0 </center></p>"
      ],
      "text/plain": [
       "<IPython.core.display.HTML object>"
      ]
     },
     "metadata": {},
     "output_type": "display_data"
    }
   ],
   "source": [
    "makefigure(['bathy_2015', 'geomorphometry'], \n",
    "           label='Output of r.geomorphon, input parameters: search=9 skip=3 flat=2.0 dist=0 step=0 start=0 ')"
   ]
  },
  {
   "cell_type": "code",
   "execution_count": 10,
   "metadata": {},
   "outputs": [
    {
     "data": {
      "text/html": [
       "<table><tr><td><img src='geomorphometry.png' width='600'></td><td><img src='swc.png' width='600'></td></tr></table><p><center><b>Figure 7:</b> Extraction of sand wave crest (SWC).</center></p>"
      ],
      "text/plain": [
       "<IPython.core.display.HTML object>"
      ]
     },
     "metadata": {},
     "output_type": "display_data"
    }
   ],
   "source": [
    "makefigure(['geomorphometry', 'swc'], label='<b>Figure 7:</b> Extraction of sand wave crest (SWC).')"
   ]
  },
  {
   "cell_type": "code",
   "execution_count": 11,
   "metadata": {},
   "outputs": [],
   "source": [
    "!r.thin input=swc output=swc_thin iterations=400 --o --q"
   ]
  },
  {
   "cell_type": "code",
   "execution_count": 12,
   "metadata": {},
   "outputs": [
    {
     "data": {
      "text/html": [
       "<table><tr><td><img src='swc.png' width='600'></td><td><img src='swc_thin.png' width='600'></td></tr></table><p><center><b>Figure 8:</b> SWC thinning.</center></p>"
      ],
      "text/plain": [
       "<IPython.core.display.HTML object>"
      ]
     },
     "metadata": {},
     "output_type": "display_data"
    }
   ],
   "source": [
    "makefigure(['swc', 'swc_thin'], label='<b>Figure 8:</b> SWC thinning.')"
   ]
  },
  {
   "cell_type": "code",
   "execution_count": 13,
   "metadata": {},
   "outputs": [],
   "source": [
    "!r.clump -d --overwrite input=swc_thin output=swc_thin_clump --q"
   ]
  },
  {
   "cell_type": "code",
   "execution_count": 14,
   "metadata": {},
   "outputs": [
    {
     "data": {
      "text/html": [
       "<table><tr><td><img src='swc_thin.png' width='600'></td><td><img src='swc_thin_clump.png' width='600'></td></tr></table><p><center><b>Figure 9:</b> SWC clumping.</center></p>"
      ],
      "text/plain": [
       "<IPython.core.display.HTML object>"
      ]
     },
     "metadata": {},
     "output_type": "display_data"
    }
   ],
   "source": [
    "makefigure(['swc_thin', 'swc_thin_clump'], label='<b>Figure 9:</b> SWC clumping.')"
   ]
  },
  {
   "cell_type": "code",
   "execution_count": 15,
   "metadata": {},
   "outputs": [],
   "source": [
    "!r.area --overwrite input=swc_thin_clump output=swc_thin_long lesser=70 --q"
   ]
  },
  {
   "cell_type": "code",
   "execution_count": 16,
   "metadata": {},
   "outputs": [
    {
     "data": {
      "text/html": [
       "<table><tr><td><img src='swc_thin_clump.png' width='600'></td><td><img src='swc_thin_long.png' width='600'></td></tr></table><p><center><b>Figure 10:</b> SWC filtering by length.</center></p>"
      ],
      "text/plain": [
       "<IPython.core.display.HTML object>"
      ]
     },
     "metadata": {},
     "output_type": "display_data"
    }
   ],
   "source": [
    "makefigure(['swc_thin_clump','swc_thin_long'], label='<b>Figure 10:</b> SWC filtering by length.')"
   ]
  },
  {
   "cell_type": "code",
   "execution_count": 17,
   "metadata": {},
   "outputs": [],
   "source": [
    "!r.to.vect input=swc_thin_long output=swc_thin_long_v type=line --o --qq"
   ]
  },
  {
   "cell_type": "code",
   "execution_count": 18,
   "metadata": {},
   "outputs": [
    {
     "data": {
      "text/html": [
       "<table><tr><td><img src='swc_thin_long.png' width='600'></td><td><img src='swc_thin_long_v.png' width='600'></td></tr></table><p><center><b>Figure 11:</b> SWC vectorization.</center></p>"
      ],
      "text/plain": [
       "<IPython.core.display.HTML object>"
      ]
     },
     "metadata": {},
     "output_type": "display_data"
    }
   ],
   "source": [
    "makefigure(['swc_thin_long','swc_thin_long_v'], label='<b>Figure 11:</b> SWC vectorization.')"
   ]
  },
  {
   "cell_type": "code",
   "execution_count": 19,
   "metadata": {},
   "outputs": [],
   "source": [
    "!v.generalize --overwrite input=swc_thin_long_v output=swc_thin_long_smooth_v method=douglas threshold=2 --qq"
   ]
  },
  {
   "cell_type": "code",
   "execution_count": 20,
   "metadata": {},
   "outputs": [
    {
     "data": {
      "text/html": [
       "<table><tr><td><img src='swc_thin_long_v.png' width='600'></td><td><img src='swc_thin_long_smooth_v.png' width='600'></td></tr></table><p><center><b>Figure 12:</b> SWC topological cleaning.</center></p>"
      ],
      "text/plain": [
       "<IPython.core.display.HTML object>"
      ]
     },
     "metadata": {},
     "output_type": "display_data"
    }
   ],
   "source": [
    "makefigure(['swc_thin_long_v', 'swc_thin_long_smooth_v'], label='<b>Figure 12:</b> SWC topological cleaning.')"
   ]
  },
  {
   "cell_type": "code",
   "execution_count": 21,
   "metadata": {},
   "outputs": [],
   "source": [
    "!v.clean input=swc_thin_long_smooth_v output=swc_thin_long_smooth_clean_v type=line tool=rmdangle,rmdangle,rmdangle,rmdangle threshold=5,10,20,30 --o --qq\n"
   ]
  },
  {
   "cell_type": "code",
   "execution_count": 22,
   "metadata": {
    "scrolled": false
   },
   "outputs": [
    {
     "data": {
      "text/html": [
       "<table><tr><td><img src='swc_thin_long_smooth_v.png' width='600'></td><td><img src='swc_thin_long_smooth_clean_v.png' width='600'></td></tr></table><p><center><b>Figure 13:</b> SWC smoothing.</center></p>"
      ],
      "text/plain": [
       "<IPython.core.display.HTML object>"
      ]
     },
     "metadata": {},
     "output_type": "display_data"
    }
   ],
   "source": [
    "makefigure(['swc_thin_long_smooth_v', 'swc_thin_long_smooth_clean_v'], label='<b>Figure 13:</b> SWC smoothing.')"
   ]
  },
  {
   "cell_type": "code",
   "execution_count": 23,
   "metadata": {},
   "outputs": [
    {
     "name": "stdout",
     "output_type": "stream",
     "text": [
      "projection: 1 (UTM)\r\n",
      "zone:       19\r\n",
      "datum:      wgs84\r\n",
      "ellipsoid:  wgs84\r\n",
      "north:      4546380\r\n",
      "south:      4546202\r\n",
      "west:       506185\r\n",
      "east:       506571\r\n",
      "nsres:      1\r\n",
      "ewres:      1\r\n",
      "rows:       178\r\n",
      "cols:       386\r\n",
      "cells:      68708\r\n"
     ]
    }
   ],
   "source": [
    "!g.region n=4546380 s=4546202 w=506185 e=506571 -ap"
   ]
  },
  {
   "cell_type": "code",
   "execution_count": 24,
   "metadata": {},
   "outputs": [],
   "source": [
    "# large scale features\n",
    "!r.geomorphon elevation=bathy_2015 forms=geomorphometry_sw search=30 skip=9 flat=3.7 dist=15 step=0 start=0 --o --qq"
   ]
  },
  {
   "cell_type": "code",
   "execution_count": 25,
   "metadata": {},
   "outputs": [],
   "source": [
    "!r.mapcalc expression=\"sw=if(geomorphometry_sw==3 | geomorphometry_sw==2 | geomorphometry_sw==6 | geomorphometry_sw==5 , 1, null())\" --o --qq\n"
   ]
  },
  {
   "cell_type": "code",
   "execution_count": 26,
   "metadata": {},
   "outputs": [
    {
     "data": {
      "text/html": [
       "<table><tr><td><img src='geomorphometry_sw.png' width='600'></td><td><img src='sw.png' width='600'></td></tr></table><p><center><b>Figure 14:</b> Sand wave (SW) extraction.</center></p>"
      ],
      "text/plain": [
       "<IPython.core.display.HTML object>"
      ]
     },
     "metadata": {},
     "output_type": "display_data"
    }
   ],
   "source": [
    "makefigure(['geomorphometry_sw', 'sw'], label='<b>Figure 14:</b> Sand wave (SW) extraction.')"
   ]
  },
  {
   "cell_type": "code",
   "execution_count": 27,
   "metadata": {},
   "outputs": [],
   "source": [
    "!r.clump -d --overwrite input=sw output=sw_clump --qq"
   ]
  },
  {
   "cell_type": "code",
   "execution_count": 28,
   "metadata": {},
   "outputs": [
    {
     "data": {
      "text/html": [
       "<table><tr><td><img src='sw.png' width='600'></td><td><img src='sw_clump.png' width='600'></td></tr></table><p><center><b>Figure 15:</b> SW clumping.</center></p>"
      ],
      "text/plain": [
       "<IPython.core.display.HTML object>"
      ]
     },
     "metadata": {},
     "output_type": "display_data"
    }
   ],
   "source": [
    "makefigure(['sw', 'sw_clump'], label='<b>Figure 15:</b> SW clumping.')"
   ]
  },
  {
   "cell_type": "code",
   "execution_count": 29,
   "metadata": {},
   "outputs": [],
   "source": [
    "!r.area input=sw_clump output=sw_clean lesser=1000 --o --qq"
   ]
  },
  {
   "cell_type": "code",
   "execution_count": 30,
   "metadata": {},
   "outputs": [
    {
     "data": {
      "text/html": [
       "<table><tr><td><img src='sw_clump.png' width='600'></td><td><img src='sw_clean.png' width='600'></td></tr></table><p><center><b>Figure 16:</b> SWC filtering by area.</center></p>"
      ],
      "text/plain": [
       "<IPython.core.display.HTML object>"
      ]
     },
     "metadata": {},
     "output_type": "display_data"
    }
   ],
   "source": [
    "makefigure(['sw_clump', 'sw_clean'], label='<b>Figure 16:</b> SWC filtering by area.')"
   ]
  },
  {
   "cell_type": "code",
   "execution_count": 31,
   "metadata": {},
   "outputs": [],
   "source": [
    "!r.neighbors input=sw_clean output=sw_clean_fill3 method=maximum --o --qq"
   ]
  },
  {
   "cell_type": "code",
   "execution_count": 32,
   "metadata": {},
   "outputs": [
    {
     "data": {
      "text/html": [
       "<table><tr><td><img src='sw_clean.png' width='600'></td><td><img src='sw_clean_fill3.png' width='600'></td></tr></table><p><center><b>Figure 17:</b> SW filling.</center></p>"
      ],
      "text/plain": [
       "<IPython.core.display.HTML object>"
      ]
     },
     "metadata": {},
     "output_type": "display_data"
    }
   ],
   "source": [
    "makefigure(['sw_clean','sw_clean_fill3'], label='<b>Figure 17:</b> SW filling.')"
   ]
  },
  {
   "cell_type": "code",
   "execution_count": 33,
   "metadata": {},
   "outputs": [],
   "source": [
    "!r.to.vect input=sw_clean_fill3 output=sw_clean_fill3_v type=area --o --qq"
   ]
  },
  {
   "cell_type": "code",
   "execution_count": 34,
   "metadata": {},
   "outputs": [
    {
     "name": "stdout",
     "output_type": "stream",
     "text": [
      "projection: 1 (UTM)\r\n",
      "zone:       19\r\n",
      "datum:      wgs84\r\n",
      "ellipsoid:  wgs84\r\n",
      "north:      4546380\r\n",
      "south:      4546202\r\n",
      "west:       506185\r\n",
      "east:       506571\r\n",
      "nsres:      1\r\n",
      "ewres:      1\r\n",
      "rows:       178\r\n",
      "cols:       386\r\n",
      "cells:      68708\r\n"
     ]
    }
   ],
   "source": [
    "!g.region n=4546380 s=4546202 w=506185 e=506571 -ap"
   ]
  },
  {
   "cell_type": "code",
   "execution_count": 35,
   "metadata": {},
   "outputs": [
    {
     "data": {
      "text/html": [
       "<table><tr><td><img src='sw_clean_fill3.png' width='600'></td><td><img src='sw_clean_fill3_v.png' width='600'></td></tr></table><p><center><b>Figure 18:</b> SW vectorization.</center></p>"
      ],
      "text/plain": [
       "<IPython.core.display.HTML object>"
      ]
     },
     "metadata": {},
     "output_type": "display_data"
    }
   ],
   "source": [
    "makefigure(['sw_clean_fill3','sw_clean_fill3_v'], label='<b>Figure 18:</b> SW vectorization.')"
   ]
  },
  {
   "cell_type": "code",
   "execution_count": 36,
   "metadata": {},
   "outputs": [
    {
     "data": {
      "text/html": [
       "<table><tr><td><img src='sw_clean_fill3_v.png' width='600'></td><td><img src='swc_thin_long_smooth_clean_v.png' width='600'></td></tr></table><p><center><b>Figure 19:</b> SW and SWC overlay.</center></p>"
      ],
      "text/plain": [
       "<IPython.core.display.HTML object>"
      ]
     },
     "metadata": {},
     "output_type": "display_data"
    }
   ],
   "source": [
    "makefigure(['sw_clean_fill3_v','swc_thin_long_smooth_clean_v'], label='<b>Figure 19:</b> SW and SWC overlay.')"
   ]
  },
  {
   "cell_type": "code",
   "execution_count": 37,
   "metadata": {},
   "outputs": [],
   "source": [
    "!v.overlay ainput=swc_thin_long_smooth_clean_v atype=line binput=sw_clean_fill3_v out=sw_ridges_v operator=and olayer=0,1,0 --o --qq\n"
   ]
  },
  {
   "cell_type": "code",
   "execution_count": 38,
   "metadata": {},
   "outputs": [
    {
     "data": {
      "text/html": [
       "<table><tr><td><img src='sw_clean_fill3_v.png' width='600'></td><td><img src='sw_ridges_v.png' width='600'></td></tr></table><p><center><b>Figure 20:</b> SWC clipping.</center></p>"
      ],
      "text/plain": [
       "<IPython.core.display.HTML object>"
      ]
     },
     "metadata": {},
     "output_type": "display_data"
    }
   ],
   "source": [
    "makefigure(['sw_clean_fill3_v','sw_ridges_v'], label='<b>Figure 20:</b> SWC clipping.')"
   ]
  },
  {
   "cell_type": "code",
   "execution_count": 39,
   "metadata": {},
   "outputs": [],
   "source": [
    "!v.buffer input=sw_ridges_v output=sw_buffer_v distance=1 --o --qq"
   ]
  },
  {
   "cell_type": "code",
   "execution_count": 40,
   "metadata": {},
   "outputs": [
    {
     "data": {
      "text/html": [
       "<table><tr><td><img src='sw_ridges_v.png' width='600'></td><td><img src='sw_buffer_v.png' width='600'></td></tr></table><p><center><b>Figure 21:</b> SWC buffering.</center></p>"
      ],
      "text/plain": [
       "<IPython.core.display.HTML object>"
      ]
     },
     "metadata": {},
     "output_type": "display_data"
    }
   ],
   "source": [
    "makefigure(['sw_ridges_v','sw_buffer_v'], label='<b>Figure 21:</b> SWC buffering.')"
   ]
  },
  {
   "cell_type": "code",
   "execution_count": 41,
   "metadata": {},
   "outputs": [],
   "source": [
    "!v.overlay ainput=sw_clean_fill3_v binput=sw_buffer_v operator=not output=sw_splitted_v --o --qq"
   ]
  },
  {
   "cell_type": "code",
   "execution_count": 42,
   "metadata": {},
   "outputs": [
    {
     "data": {
      "text/html": [
       "<table><tr><td><img src='sw_clean_fill3_v.png' width='600'></td><td><img src='sw_splitted_v.png' width='600'></td></tr></table><p><center><b>Figure 22:</b> SW splitting.</center></p>"
      ],
      "text/plain": [
       "<IPython.core.display.HTML object>"
      ]
     },
     "metadata": {},
     "output_type": "display_data"
    }
   ],
   "source": [
    "makefigure(['sw_clean_fill3_v','sw_splitted_v'], label='<b>Figure 22:</b> SW splitting.')"
   ]
  },
  {
   "cell_type": "code",
   "execution_count": 43,
   "metadata": {},
   "outputs": [],
   "source": [
    "#!v.generalize --overwrite input=swc_thin_long_smooth type=line output=swc_thin_long_smooth2 method=snakes threshold=1 alpha=3.0 beta=3.0"
   ]
  },
  {
   "cell_type": "code",
   "execution_count": 44,
   "metadata": {},
   "outputs": [],
   "source": [
    "!v.split --overwrite input=swc_thin_long_smooth_clean_v output=ridges_smooth_split_v length=70 --qq"
   ]
  },
  {
   "cell_type": "code",
   "execution_count": 45,
   "metadata": {},
   "outputs": [],
   "source": [
    "!v.transects --overwrite input=ridges_smooth_split_v output=ridges_smooth_transect_v transect_spacing=10 dleft=70 dright=70 --qq\n"
   ]
  },
  {
   "cell_type": "code",
   "execution_count": 46,
   "metadata": {},
   "outputs": [
    {
     "data": {
      "text/html": [
       "<table><tr><td><img src='sw_clean_fill3_v.png' width='600'></td><td><img src='sw_splitted_v.png' width='600'></td></tr></table><p><center><b>Figure 23:</b> identification od dune's side.</center></p>"
      ],
      "text/plain": [
       "<IPython.core.display.HTML object>"
      ]
     },
     "metadata": {},
     "output_type": "display_data"
    }
   ],
   "source": [
    "makefigure(['sw_clean_fill3_v','sw_splitted_v'], label=\"<b>Figure 23:</b> identification od dune's side.\")"
   ]
  },
  {
   "cell_type": "code",
   "execution_count": 47,
   "metadata": {},
   "outputs": [
    {
     "data": {
      "text/html": [
       "<table><tr><td><img src='sw_splitted_v.png' width='600'></td><td><img src='ridges_smooth_transect_v.png' width='600'></td></tr></table><p><center><center><b>Figure 23:</b> identification of dune's side.</center></center></p>"
      ],
      "text/plain": [
       "<IPython.core.display.HTML object>"
      ]
     },
     "metadata": {},
     "output_type": "display_data"
    }
   ],
   "source": [
    "makefigure(['sw_splitted_v','ridges_smooth_transect_v'], label=\"<center><b>Figure 23:</b> identification of dune's side.</center>\")\n"
   ]
  },
  {
   "cell_type": "code",
   "execution_count": null,
   "metadata": {},
   "outputs": [],
   "source": []
  }
 ],
 "metadata": {
  "kernelspec": {
   "display_name": "Python 3",
   "language": "python",
   "name": "python3"
  },
  "language_info": {
   "codemirror_mode": {
    "name": "ipython",
    "version": 3
   },
   "file_extension": ".py",
   "mimetype": "text/x-python",
   "name": "python",
   "nbconvert_exporter": "python",
   "pygments_lexer": "ipython3",
   "version": "3.6.4"
  }
 },
 "nbformat": 4,
 "nbformat_minor": 2
}
